{
 "cells": [
  {
   "cell_type": "code",
   "execution_count": 58,
   "metadata": {},
   "outputs": [],
   "source": [
    "import pandas as pd\n",
    "import numpy as np\n",
    "from scipy.cluster.hierarchy import dendrogram, linkage\n",
    "from matplotlib import pyplot as plt"
   ]
  },
  {
   "cell_type": "code",
   "execution_count": 59,
   "metadata": {},
   "outputs": [
    {
     "data": {
      "text/plain": [
       "'3.1.1'"
      ]
     },
     "execution_count": 59,
     "metadata": {},
     "output_type": "execute_result"
    }
   ],
   "source": [
    "import matplotlib\n",
    "matplotlib.__version__"
   ]
  },
  {
   "cell_type": "code",
   "execution_count": 63,
   "metadata": {},
   "outputs": [],
   "source": [
    "def load_data():\n",
    "    symbols = [ 'AAPL', 'AMZN', 'BBT','GOOG', 'JPM', 'MMM', 'MSFT']\n",
    "\n",
    "    n = len(symbols)\n",
    "    prices_out, caps_out = [], []\n",
    "    for s in symbols:\n",
    "        dataframe = pd.read_csv('%s.csv' % s, index_col=None, parse_dates=['Date'])\n",
    "        prices = list(dataframe['Close'])[-506:] # trailing window 506 days 2 roz bishtar vase roze aval va akhar ezafe\n",
    "        prices_out.append(prices)\n",
    "       \n",
    "    return symbols, prices_out \n",
    "\n",
    "names, prices = load_data()   \n",
    "n = len(names)"
   ]
  },
  {
   "cell_type": "code",
   "execution_count": 64,
   "metadata": {},
   "outputs": [
    {
     "data": {
      "text/html": [
       "<div>\n",
       "<style scoped>\n",
       "    .dataframe tbody tr th:only-of-type {\n",
       "        vertical-align: middle;\n",
       "    }\n",
       "\n",
       "    .dataframe tbody tr th {\n",
       "        vertical-align: top;\n",
       "    }\n",
       "\n",
       "    .dataframe thead th {\n",
       "        text-align: right;\n",
       "    }\n",
       "</style>\n",
       "<table border=\"1\" class=\"dataframe\">\n",
       "  <thead>\n",
       "    <tr style=\"text-align: right;\">\n",
       "      <th></th>\n",
       "      <th>AAPL</th>\n",
       "      <th>AMZN</th>\n",
       "      <th>BBT</th>\n",
       "      <th>GOOG</th>\n",
       "      <th>JPM</th>\n",
       "      <th>MMM</th>\n",
       "      <th>MSFT</th>\n",
       "    </tr>\n",
       "    <tr>\n",
       "      <th>Date</th>\n",
       "      <th></th>\n",
       "      <th></th>\n",
       "      <th></th>\n",
       "      <th></th>\n",
       "      <th></th>\n",
       "      <th></th>\n",
       "      <th></th>\n",
       "    </tr>\n",
       "  </thead>\n",
       "  <tbody>\n",
       "    <tr>\n",
       "      <td>10/27/2017</td>\n",
       "      <td>163.050003</td>\n",
       "      <td>1100.949951</td>\n",
       "      <td>48.740002</td>\n",
       "      <td>1019.270020</td>\n",
       "      <td>101.769997</td>\n",
       "      <td>234.740005</td>\n",
       "      <td>83.809998</td>\n",
       "    </tr>\n",
       "    <tr>\n",
       "      <td>10/30/2017</td>\n",
       "      <td>166.720001</td>\n",
       "      <td>1110.849976</td>\n",
       "      <td>49.110001</td>\n",
       "      <td>1017.109985</td>\n",
       "      <td>101.410004</td>\n",
       "      <td>231.020004</td>\n",
       "      <td>83.889999</td>\n",
       "    </tr>\n",
       "    <tr>\n",
       "      <td>10/31/2017</td>\n",
       "      <td>169.039993</td>\n",
       "      <td>1105.280029</td>\n",
       "      <td>49.240002</td>\n",
       "      <td>1016.640015</td>\n",
       "      <td>100.610001</td>\n",
       "      <td>230.190002</td>\n",
       "      <td>83.180000</td>\n",
       "    </tr>\n",
       "    <tr>\n",
       "      <td>11/1/2017</td>\n",
       "      <td>166.889999</td>\n",
       "      <td>1103.680054</td>\n",
       "      <td>49.549999</td>\n",
       "      <td>1025.500000</td>\n",
       "      <td>100.919998</td>\n",
       "      <td>230.179993</td>\n",
       "      <td>83.180000</td>\n",
       "    </tr>\n",
       "    <tr>\n",
       "      <td>11/2/2017</td>\n",
       "      <td>168.110001</td>\n",
       "      <td>1094.219971</td>\n",
       "      <td>49.590000</td>\n",
       "      <td>1025.579956</td>\n",
       "      <td>101.589996</td>\n",
       "      <td>232.229996</td>\n",
       "      <td>84.050003</td>\n",
       "    </tr>\n",
       "    <tr>\n",
       "      <td>...</td>\n",
       "      <td>...</td>\n",
       "      <td>...</td>\n",
       "      <td>...</td>\n",
       "      <td>...</td>\n",
       "      <td>...</td>\n",
       "      <td>...</td>\n",
       "      <td>...</td>\n",
       "    </tr>\n",
       "    <tr>\n",
       "      <td>10/25/2019</td>\n",
       "      <td>246.580002</td>\n",
       "      <td>1761.329956</td>\n",
       "      <td>53.580002</td>\n",
       "      <td>1265.130005</td>\n",
       "      <td>126.029999</td>\n",
       "      <td>166.089996</td>\n",
       "      <td>140.729996</td>\n",
       "    </tr>\n",
       "    <tr>\n",
       "      <td>10/28/2019</td>\n",
       "      <td>249.050003</td>\n",
       "      <td>1777.079956</td>\n",
       "      <td>54.000000</td>\n",
       "      <td>1290.000000</td>\n",
       "      <td>126.510002</td>\n",
       "      <td>169.059998</td>\n",
       "      <td>144.190002</td>\n",
       "    </tr>\n",
       "    <tr>\n",
       "      <td>10/29/2019</td>\n",
       "      <td>243.289993</td>\n",
       "      <td>1762.709961</td>\n",
       "      <td>54.240002</td>\n",
       "      <td>1262.619995</td>\n",
       "      <td>126.430000</td>\n",
       "      <td>168.809998</td>\n",
       "      <td>142.830002</td>\n",
       "    </tr>\n",
       "    <tr>\n",
       "      <td>10/30/2019</td>\n",
       "      <td>243.259995</td>\n",
       "      <td>1779.989990</td>\n",
       "      <td>53.680000</td>\n",
       "      <td>1261.290039</td>\n",
       "      <td>125.730003</td>\n",
       "      <td>168.369995</td>\n",
       "      <td>144.610001</td>\n",
       "    </tr>\n",
       "    <tr>\n",
       "      <td>10/31/2019</td>\n",
       "      <td>248.759995</td>\n",
       "      <td>1776.660034</td>\n",
       "      <td>53.049999</td>\n",
       "      <td>1260.109985</td>\n",
       "      <td>124.919998</td>\n",
       "      <td>164.990005</td>\n",
       "      <td>143.369995</td>\n",
       "    </tr>\n",
       "  </tbody>\n",
       "</table>\n",
       "<p>506 rows × 7 columns</p>\n",
       "</div>"
      ],
      "text/plain": [
       "                  AAPL         AMZN        BBT         GOOG         JPM  \\\n",
       "Date                                                                      \n",
       "10/27/2017  163.050003  1100.949951  48.740002  1019.270020  101.769997   \n",
       "10/30/2017  166.720001  1110.849976  49.110001  1017.109985  101.410004   \n",
       "10/31/2017  169.039993  1105.280029  49.240002  1016.640015  100.610001   \n",
       "11/1/2017   166.889999  1103.680054  49.549999  1025.500000  100.919998   \n",
       "11/2/2017   168.110001  1094.219971  49.590000  1025.579956  101.589996   \n",
       "...                ...          ...        ...          ...         ...   \n",
       "10/25/2019  246.580002  1761.329956  53.580002  1265.130005  126.029999   \n",
       "10/28/2019  249.050003  1777.079956  54.000000  1290.000000  126.510002   \n",
       "10/29/2019  243.289993  1762.709961  54.240002  1262.619995  126.430000   \n",
       "10/30/2019  243.259995  1779.989990  53.680000  1261.290039  125.730003   \n",
       "10/31/2019  248.759995  1776.660034  53.049999  1260.109985  124.919998   \n",
       "\n",
       "                   MMM        MSFT  \n",
       "Date                                \n",
       "10/27/2017  234.740005   83.809998  \n",
       "10/30/2017  231.020004   83.889999  \n",
       "10/31/2017  230.190002   83.180000  \n",
       "11/1/2017   230.179993   83.180000  \n",
       "11/2/2017   232.229996   84.050003  \n",
       "...                ...         ...  \n",
       "10/25/2019  166.089996  140.729996  \n",
       "10/28/2019  169.059998  144.190002  \n",
       "10/29/2019  168.809998  142.830002  \n",
       "10/30/2019  168.369995  144.610001  \n",
       "10/31/2019  164.990005  143.369995  \n",
       "\n",
       "[506 rows x 7 columns]"
      ]
     },
     "execution_count": 64,
     "metadata": {},
     "output_type": "execute_result"
    }
   ],
   "source": [
    "a = pd.read_csv('pricing.csv', index_col=0)\n",
    "\n",
    "assets = a [-506:]\n",
    "assets\n",
    "#prices = list(assets)"
   ]
  },
  {
   "cell_type": "code",
   "execution_count": 65,
   "metadata": {},
   "outputs": [],
   "source": [
    "returns = assets.pct_change().dropna()"
   ]
  },
  {
   "cell_type": "code",
   "execution_count": 66,
   "metadata": {},
   "outputs": [
    {
     "data": {
      "text/html": [
       "<div>\n",
       "<style scoped>\n",
       "    .dataframe tbody tr th:only-of-type {\n",
       "        vertical-align: middle;\n",
       "    }\n",
       "\n",
       "    .dataframe tbody tr th {\n",
       "        vertical-align: top;\n",
       "    }\n",
       "\n",
       "    .dataframe thead th {\n",
       "        text-align: right;\n",
       "    }\n",
       "</style>\n",
       "<table border=\"1\" class=\"dataframe\">\n",
       "  <thead>\n",
       "    <tr style=\"text-align: right;\">\n",
       "      <th></th>\n",
       "      <th>AAPL</th>\n",
       "      <th>AMZN</th>\n",
       "      <th>BBT</th>\n",
       "      <th>GOOG</th>\n",
       "      <th>JPM</th>\n",
       "      <th>MMM</th>\n",
       "      <th>MSFT</th>\n",
       "    </tr>\n",
       "    <tr>\n",
       "      <th>Date</th>\n",
       "      <th></th>\n",
       "      <th></th>\n",
       "      <th></th>\n",
       "      <th></th>\n",
       "      <th></th>\n",
       "      <th></th>\n",
       "      <th></th>\n",
       "    </tr>\n",
       "  </thead>\n",
       "  <tbody>\n",
       "    <tr>\n",
       "      <td>10/30/2017</td>\n",
       "      <td>0.022508</td>\n",
       "      <td>0.008992</td>\n",
       "      <td>0.007591</td>\n",
       "      <td>-0.002119</td>\n",
       "      <td>-0.003537</td>\n",
       "      <td>-0.015847</td>\n",
       "      <td>0.000955</td>\n",
       "    </tr>\n",
       "    <tr>\n",
       "      <td>10/31/2017</td>\n",
       "      <td>0.013915</td>\n",
       "      <td>-0.005014</td>\n",
       "      <td>0.002647</td>\n",
       "      <td>-0.000462</td>\n",
       "      <td>-0.007889</td>\n",
       "      <td>-0.003593</td>\n",
       "      <td>-0.008463</td>\n",
       "    </tr>\n",
       "    <tr>\n",
       "      <td>11/1/2017</td>\n",
       "      <td>-0.012719</td>\n",
       "      <td>-0.001448</td>\n",
       "      <td>0.006296</td>\n",
       "      <td>0.008715</td>\n",
       "      <td>0.003081</td>\n",
       "      <td>-0.000043</td>\n",
       "      <td>0.000000</td>\n",
       "    </tr>\n",
       "    <tr>\n",
       "      <td>11/2/2017</td>\n",
       "      <td>0.007310</td>\n",
       "      <td>-0.008571</td>\n",
       "      <td>0.000807</td>\n",
       "      <td>0.000078</td>\n",
       "      <td>0.006639</td>\n",
       "      <td>0.008906</td>\n",
       "      <td>0.010459</td>\n",
       "    </tr>\n",
       "    <tr>\n",
       "      <td>11/3/2017</td>\n",
       "      <td>0.026114</td>\n",
       "      <td>0.015883</td>\n",
       "      <td>-0.001008</td>\n",
       "      <td>0.006728</td>\n",
       "      <td>-0.001772</td>\n",
       "      <td>-0.000043</td>\n",
       "      <td>0.001071</td>\n",
       "    </tr>\n",
       "  </tbody>\n",
       "</table>\n",
       "</div>"
      ],
      "text/plain": [
       "                AAPL      AMZN       BBT      GOOG       JPM       MMM  \\\n",
       "Date                                                                     \n",
       "10/30/2017  0.022508  0.008992  0.007591 -0.002119 -0.003537 -0.015847   \n",
       "10/31/2017  0.013915 -0.005014  0.002647 -0.000462 -0.007889 -0.003593   \n",
       "11/1/2017  -0.012719 -0.001448  0.006296  0.008715  0.003081 -0.000043   \n",
       "11/2/2017   0.007310 -0.008571  0.000807  0.000078  0.006639  0.008906   \n",
       "11/3/2017   0.026114  0.015883 -0.001008  0.006728 -0.001772 -0.000043   \n",
       "\n",
       "                MSFT  \n",
       "Date                  \n",
       "10/30/2017  0.000955  \n",
       "10/31/2017 -0.008463  \n",
       "11/1/2017   0.000000  \n",
       "11/2/2017   0.010459  \n",
       "11/3/2017   0.001071  "
      ]
     },
     "execution_count": 66,
     "metadata": {},
     "output_type": "execute_result"
    }
   ],
   "source": [
    "returns.head()"
   ]
  },
  {
   "cell_type": "code",
   "execution_count": 67,
   "metadata": {},
   "outputs": [
    {
     "data": {
      "text/plain": [
       "Index(['AAPL', 'AMZN', 'BBT', 'GOOG', 'JPM', 'MMM', 'MSFT'], dtype='object')"
      ]
     },
     "execution_count": 67,
     "metadata": {},
     "output_type": "execute_result"
    }
   ],
   "source": [
    "returns.columns"
   ]
  },
  {
   "cell_type": "markdown",
   "metadata": {},
   "source": [
    "### Hierarchical Clustering\n",
    "\n",
    "> Hierarchical clustering can be performed with a distance matrix. Then it repeatedly executed the following 2 steps:\n",
    "1. Start by treating indivisual items as a cluster. Identify 2 clusters that are closest together\n",
    "2. merge the 2 most similar clusters.\n",
    "\n",
    "> This continues until all the clusters are merge together.\n",
    "\n",
    "\n",
    "> The distance between 2 clusters can be computed based on length of the straight line, which is the Euclidean distance. This is called **measure of distance/similarity.**\n",
    "\n",
    "> After selecting a distance metric, it is necessary to determine from where distance is computed. For example, it can be computed between the 2 similar parts of a cluster, the 2 least similar or some other criterion. This is called **Linkage Criteria**"
   ]
  },
  {
   "cell_type": "code",
   "execution_count": 68,
   "metadata": {},
   "outputs": [],
   "source": [
    "# correlation matrix\n",
    "corr = returns.corr()"
   ]
  },
  {
   "cell_type": "code",
   "execution_count": 69,
   "metadata": {},
   "outputs": [],
   "source": [
    "# distance matrix\n",
    "d_corr = np.sqrt(0.5*(1-corr))"
   ]
  },
  {
   "cell_type": "code",
   "execution_count": 70,
   "metadata": {},
   "outputs": [
    {
     "name": "stderr",
     "output_type": "stream",
     "text": [
      "C:\\ProgramData\\Anaconda3\\lib\\site-packages\\ipykernel_launcher.py:1: ClusterWarning: scipy.cluster: The symmetric non-negative hollow observation matrix looks suspiciously like an uncondensed distance matrix\n",
      "  \"\"\"Entry point for launching an IPython kernel.\n"
     ]
    },
    {
     "data": {
      "image/png": "[encoded data removed]",
      "text/plain": [
       "<Figure size 1800x720 with 1 Axes>"
      ]
     },
     "metadata": {
      "needs_background": "light"
     },
     "output_type": "display_data"
    }
   ],
   "source": [
    "link = linkage(d_corr, 'single')\n",
    "Z = pd.DataFrame(link)\n",
    "\n",
    "fig = plt.figure(figsize=(25, 10))\n",
    "dn = dendrogram(Z)\n",
    "# plt.show()"
   ]
  },
  {
   "cell_type": "code",
   "execution_count": 80,
   "metadata": {},
   "outputs": [
    {
     "data": {
      "text/plain": [
       "Index(['AAPL', 'AMZN', 'BBT', 'GOOG', 'JPM', 'MMM', 'MSFT'], dtype='object')"
      ]
     },
     "execution_count": 80,
     "metadata": {},
     "output_type": "execute_result"
    }
   ],
   "source": [
    "returns.columns"
   ]
  },
  {
   "cell_type": "code",
   "execution_count": 71,
   "metadata": {},
   "outputs": [
    {
     "data": {
      "text/html": [
       "<div>\n",
       "<style scoped>\n",
       "    .dataframe tbody tr th:only-of-type {\n",
       "        vertical-align: middle;\n",
       "    }\n",
       "\n",
       "    .dataframe tbody tr th {\n",
       "        vertical-align: top;\n",
       "    }\n",
       "\n",
       "    .dataframe thead th {\n",
       "        text-align: right;\n",
       "    }\n",
       "</style>\n",
       "<table border=\"1\" class=\"dataframe\">\n",
       "  <thead>\n",
       "    <tr style=\"text-align: right;\">\n",
       "      <th></th>\n",
       "      <th>0</th>\n",
       "      <th>1</th>\n",
       "      <th>2</th>\n",
       "      <th>3</th>\n",
       "    </tr>\n",
       "  </thead>\n",
       "  <tbody>\n",
       "    <tr>\n",
       "      <td>0</td>\n",
       "      <td>2.0</td>\n",
       "      <td>4.0</td>\n",
       "      <td>0.469382</td>\n",
       "      <td>2.0</td>\n",
       "    </tr>\n",
       "    <tr>\n",
       "      <td>1</td>\n",
       "      <td>1.0</td>\n",
       "      <td>6.0</td>\n",
       "      <td>0.502150</td>\n",
       "      <td>2.0</td>\n",
       "    </tr>\n",
       "    <tr>\n",
       "      <td>2</td>\n",
       "      <td>3.0</td>\n",
       "      <td>8.0</td>\n",
       "      <td>0.511284</td>\n",
       "      <td>3.0</td>\n",
       "    </tr>\n",
       "    <tr>\n",
       "      <td>3</td>\n",
       "      <td>0.0</td>\n",
       "      <td>9.0</td>\n",
       "      <td>0.599715</td>\n",
       "      <td>4.0</td>\n",
       "    </tr>\n",
       "    <tr>\n",
       "      <td>4</td>\n",
       "      <td>5.0</td>\n",
       "      <td>7.0</td>\n",
       "      <td>0.681725</td>\n",
       "      <td>3.0</td>\n",
       "    </tr>\n",
       "    <tr>\n",
       "      <td>5</td>\n",
       "      <td>10.0</td>\n",
       "      <td>11.0</td>\n",
       "      <td>0.753541</td>\n",
       "      <td>7.0</td>\n",
       "    </tr>\n",
       "  </tbody>\n",
       "</table>\n",
       "</div>"
      ],
      "text/plain": [
       "      0     1         2    3\n",
       "0   2.0   4.0  0.469382  2.0\n",
       "1   1.0   6.0  0.502150  2.0\n",
       "2   3.0   8.0  0.511284  3.0\n",
       "3   0.0   9.0  0.599715  4.0\n",
       "4   5.0   7.0  0.681725  3.0\n",
       "5  10.0  11.0  0.753541  7.0"
      ]
     },
     "execution_count": 71,
     "metadata": {},
     "output_type": "execute_result"
    }
   ],
   "source": [
    "Z"
   ]
  },
  {
   "cell_type": "markdown",
   "metadata": {},
   "source": [
    "> This stage allows us to define a linkage matrix as an (N-1)x4 matrix with structure $Y = \\{(y_{m,1},y_{m,2},y_{m,3},y_{m,4})\\}_{m=1,...N-1}$ (i.e, with one 4-tuple per cluster). Items ($y_{m,1}, y_{m.2}$) report the constituents. Item $y_m,3$ reports the distance between $y_{m,1}$ and $y_{m,2}$. Item $y_{m,4}$ reports the number of original items included in cluster $m$"
   ]
  },
  {
   "cell_type": "markdown",
   "metadata": {},
   "source": [
    "### Quasi-Diagonalization"
   ]
  },
  {
   "cell_type": "markdown",
   "metadata": {},
   "source": [
    "> This stage reorganizes the rows and columns of the covariance matrix, so that the largest values lie along the diagonal. This quasi-diagonalization of the covariance matrix renders a useful property - similar investments are placed together, and dissimilar investments are placed far apart. \n",
    "\n",
    "> The algorithm works as follows -\n",
    "1. We know that each row of the linkage matrix megers 2 branches into 1. We replace clusters in ($y_{N-1, 1}, y_{N-1,2}$) with their constituents recursively, until no clusters remain.\n",
    "2. These replacemnets preserve the order of the clustering.\n",
    "3. The output is a sorted list fo original items. "
   ]
  },
  {
   "cell_type": "code",
   "execution_count": 72,
   "metadata": {},
   "outputs": [],
   "source": [
    "def get_quasi_diag(link):\n",
    "    \n",
    "    # sort clustered items by distance\n",
    "    \n",
    "    link = link.astype(int)\n",
    "    \n",
    "    # get the first and the second item of the last tuple\n",
    "    sort_ix = pd.Series([link[-1,0], link[-1,1]]) \n",
    "    \n",
    "    # the total num of items is the third item of the last list\n",
    "    num_items = link[-1, 3]\n",
    "    \n",
    "    # if the max of sort_ix is bigger than or equal to the max_items\n",
    "    while sort_ix.max() >= num_items:\n",
    "        # assign sort_ix index with 24 x 24\n",
    "        sort_ix.index = range(0, sort_ix.shape[0]*2, 2) # odd numers as index\n",
    "        \n",
    "        df0 = sort_ix[sort_ix >= num_items] # find clusters\n",
    "        \n",
    "        # df0 contain even index and cluster index\n",
    "        i = df0.index\n",
    "        j = df0.values - num_items # \n",
    "        \n",
    "        sort_ix[i] = link[j,0] # item 1\n",
    "        \n",
    "        df0  = pd.Series(link[j, 1], index=i+1)\n",
    "        \n",
    "        sort_ix = sort_ix.append(df0)\n",
    "        sort_ix = sort_ix.sort_index()\n",
    "        \n",
    "        sort_ix.index = range(sort_ix.shape[0])\n",
    "        \n",
    "    \n",
    "    return sort_ix.tolist()"
   ]
  },
  {
   "cell_type": "code",
   "execution_count": 73,
   "metadata": {},
   "outputs": [
    {
     "data": {
      "text/plain": [
       "[0, 3, 1, 6, 5, 2, 4]"
      ]
     },
     "execution_count": 73,
     "metadata": {},
     "output_type": "execute_result"
    }
   ],
   "source": [
    "sort_ix = get_quasi_diag(link)\n",
    "sort_ix"
   ]
  },
  {
   "cell_type": "markdown",
   "metadata": {},
   "source": [
    "### Recursive Bisection\n",
    "\n",
    "> Stage 2 has delivered a quasi-diagonal matrix. The inverse - variance is optimal for a diagonal covariance matrix. We can take advantage of these facts in 2 different ways \n",
    "1. bottom-up, to define the variance of a contiguous subset as teh variance of an inverse-variance allocation.\n",
    "2. top-down, to split allocations between adjacent subsets in inverse proportion to their aggregated variances."
   ]
  },
  {
   "cell_type": "code",
   "execution_count": 74,
   "metadata": {},
   "outputs": [],
   "source": [
    "def get_cluster_var(cov, c_items):\n",
    "    cov_ = cov.iloc[c_items, c_items] # matrix slice\n",
    "    # calculate the inversev-variance portfolio\n",
    "    ivp = 1./np.diag(cov_)\n",
    "    ivp/=ivp.sum()\n",
    "    w_ = ivp.reshape(-1,1)\n",
    "    c_var = np.dot(np.dot(w_.T, cov_), w_)[0,0]\n",
    "    return c_var\n",
    "def get_rec_bipart(cov, sort_ix):\n",
    "    # compute HRP allocation\n",
    "    # intialize weights of 1\n",
    "    w = pd.Series(1, index=sort_ix)\n",
    "    \n",
    "    # intialize all items in one cluster\n",
    "    c_items = [sort_ix]\n",
    "    while len(c_items) > 0:\n",
    "        # bisection\n",
    "        \"\"\"\n",
    "        [[3, 6, 0, 9, 2, 4, 13], [5, 12, 8, 10, 7, 1, 11]]\n",
    "        [[3, 6, 0], [9, 2, 4, 13], [5, 12, 8], [10, 7, 1, 11]]\n",
    "        [[3], [6, 0], [9, 2], [4, 13], [5], [12, 8], [10, 7], [1, 11]]\n",
    "        [[6], [0], [9], [2], [4], [13], [12], [8], [10], [7], [1], [11]]\n",
    "        \"\"\"\n",
    "        c_items = [i[int(j):int(k)] for i in c_items for j,k in \n",
    "                   ((0,len(i)/2),(len(i)/2,len(i))) if len(i)>1]\n",
    "        \n",
    "        # now it has 2\n",
    "        for i in range(0, len(c_items), 2):\n",
    "            \n",
    "            c_items0 = c_items[i] # cluster 1\n",
    "            c_items1 = c_items[i+1] # cluter 2\n",
    "            \n",
    "            c_var0 = get_cluster_var(cov, c_items0)\n",
    "            c_var1 = get_cluster_var(cov, c_items1)\n",
    "            \n",
    "            alpha = 1 - c_var0/(c_var0+c_var1)\n",
    "            \n",
    "            w[c_items0] *= alpha\n",
    "            w[c_items1] *=1-alpha\n",
    "    return w"
   ]
  },
  {
   "cell_type": "code",
   "execution_count": 75,
   "metadata": {},
   "outputs": [],
   "source": [
    "cov = returns.cov()\n",
    "weights = get_rec_bipart(cov, sort_ix)"
   ]
  },
  {
   "cell_type": "code",
   "execution_count": 76,
   "metadata": {},
   "outputs": [],
   "source": [
    "new_index = [returns.columns[i] for i in weights.index]\n",
    "weights.index = new_index"
   ]
  },
  {
   "cell_type": "code",
   "execution_count": 77,
   "metadata": {},
   "outputs": [
    {
     "data": {
      "text/plain": [
       "AAPL    0.166874\n",
       "GOOG    0.109207\n",
       "AMZN    0.082379\n",
       "MSFT    0.145993\n",
       "MMM     0.155950\n",
       "BBT     0.166282\n",
       "JPM     0.173315\n",
       "dtype: float64"
      ]
     },
     "execution_count": 77,
     "metadata": {},
     "output_type": "execute_result"
    }
   ],
   "source": [
    "weights"
   ]
  },
  {
   "cell_type": "code",
   "execution_count": 51,
   "metadata": {},
   "outputs": [
    {
     "name": "stdout",
     "output_type": "stream",
     "text": [
      "Using matplotlib backend: Qt5Agg\n",
      "Populating the interactive namespace from numpy and matplotlib\n"
     ]
    }
   ],
   "source": [
    "import matplotlib.pyplot as pp\n",
    "import pandas as pd\n",
    "import numpy as np\n",
    "import scipy.optimize as so\n",
    "import seaborn as sb\n",
    "sb.set()\n",
    "%pylab\n",
    "%matplotlib inline\n"
   ]
  },
  {
   "cell_type": "code",
   "execution_count": null,
   "metadata": {},
   "outputs": [],
   "source": []
  },
  {
   "cell_type": "code",
   "execution_count": 78,
   "metadata": {},
   "outputs": [],
   "source": [
    "prices = np.array(prices)"
   ]
  },
  {
   "cell_type": "code",
   "execution_count": 79,
   "metadata": {},
   "outputs": [
    {
     "name": "stdout",
     "output_type": "stream",
     "text": [
      "day\t|\tAAPL \tMSFT \tMMM \tAMZN \tGOOG \tJPM \tBBT \t|\tBudget\n",
      "----------------------------------------------------------------------------------------------------\n",
      "0\t|\t0\t0\t0\t0\t0\t0\t0\t|\t1000000\n",
      "[0.16687415 0.10920668 0.08237909 0.14599291 0.15594965 0.16628238\n",
      " 0.17331514]\n",
      "0\t|\t782\t71\t1706\t140\t1461\t876\t1670\t|\t714.855963821133\n",
      "----------------------------------------------------------------------------------------------------\n",
      "Budget after selling all stocks of this day:  999001.7131428211\n",
      "0.17331514441708504\n"
     ]
    },
    {
     "ename": "TypeError",
     "evalue": "zip argument #1 must support iteration",
     "output_type": "error",
     "traceback": [
      "\u001b[1;31m---------------------------------------------------------------------------\u001b[0m",
      "\u001b[1;31mTypeError\u001b[0m                                 Traceback (most recent call last)",
      "\u001b[1;32m<ipython-input-79-6023994b572b>\u001b[0m in \u001b[0;36m<module>\u001b[1;34m\u001b[0m\n\u001b[0;32m     41\u001b[0m     \u001b[0mcurrent_budget\u001b[0m \u001b[1;33m=\u001b[0m \u001b[0mbudget\u001b[0m\u001b[1;33m\u001b[0m\u001b[1;33m\u001b[0m\u001b[0m\n\u001b[0;32m     42\u001b[0m     \u001b[0mtransaction_budget\u001b[0m \u001b[1;33m=\u001b[0m \u001b[1;33m(\u001b[0m\u001b[0mcurrent_budget\u001b[0m \u001b[1;33m+\u001b[0m \u001b[0mnp\u001b[0m\u001b[1;33m.\u001b[0m\u001b[0msum\u001b[0m\u001b[1;33m(\u001b[0m\u001b[0mcurrent_prices\u001b[0m\u001b[1;33m*\u001b[0m\u001b[0mstocks\u001b[0m\u001b[1;33m)\u001b[0m\u001b[1;33m)\u001b[0m\u001b[1;33m\u001b[0m\u001b[1;33m\u001b[0m\u001b[0m\n\u001b[1;32m---> 43\u001b[1;33m     \u001b[1;32mfor\u001b[0m \u001b[0mindex\u001b[0m\u001b[1;33m,\u001b[0m \u001b[1;33m(\u001b[0m\u001b[0mweights\u001b[0m\u001b[1;33m,\u001b[0m \u001b[0mcurrent_closed_price\u001b[0m\u001b[1;33m)\u001b[0m \u001b[1;32min\u001b[0m \u001b[0menumerate\u001b[0m\u001b[1;33m(\u001b[0m\u001b[0mzip\u001b[0m\u001b[1;33m(\u001b[0m\u001b[0mweights\u001b[0m\u001b[1;33m,\u001b[0m \u001b[0mcurrent_prices\u001b[0m\u001b[1;33m)\u001b[0m\u001b[1;33m)\u001b[0m\u001b[1;33m:\u001b[0m\u001b[1;33m\u001b[0m\u001b[1;33m\u001b[0m\u001b[0m\n\u001b[0m\u001b[0;32m     44\u001b[0m         \u001b[0mnumber_of_stock\u001b[0m \u001b[1;33m=\u001b[0m \u001b[0mint\u001b[0m\u001b[1;33m(\u001b[0m\u001b[1;33m(\u001b[0m\u001b[0mweights\u001b[0m \u001b[1;33m*\u001b[0m \u001b[0mtransaction_budget\u001b[0m\u001b[1;33m)\u001b[0m\u001b[1;33m/\u001b[0m\u001b[0mcurrent_closed_price\u001b[0m\u001b[1;33m)\u001b[0m\u001b[1;33m\u001b[0m\u001b[1;33m\u001b[0m\u001b[0m\n\u001b[0;32m     45\u001b[0m         \u001b[1;32mif\u001b[0m \u001b[0mnumber_of_stock\u001b[0m \u001b[1;33m>\u001b[0m \u001b[0mstocks\u001b[0m\u001b[1;33m[\u001b[0m\u001b[0mindex\u001b[0m\u001b[1;33m]\u001b[0m\u001b[1;33m:\u001b[0m \u001b[1;31m# buy\u001b[0m\u001b[1;33m\u001b[0m\u001b[1;33m\u001b[0m\u001b[0m\n",
      "\u001b[1;31mTypeError\u001b[0m: zip argument #1 must support iteration"
     ]
    }
   ],
   "source": [
    "rf = 0.02  # Risk-free rate\n",
    "markowits_budgets = []\n",
    "markowitz_weights = []\n",
    "markowits_budgets_ret = []\n",
    "markowits_stock = []\n",
    "results = []\n",
    "stocks = [0] * 7\n",
    "budget = 1000000\n",
    "markowits_budgets_ret.append(0)\n",
    "markowitz_weights.append(0)\n",
    "markowits_budgets.append(0)\n",
    "markowits_stock.append(0)\n",
    "transaction_budget = budget\n",
    "transactionCostFactor = 0.001\n",
    "output = '{}\\t|\\t'.format('day')\n",
    "names = [ 'AAPL', 'MSFT', 'MMM', 'AMZN', 'GOOG', 'JPM', 'BBT']\n",
    "for name in names:\n",
    "    output += '{} \\t'.format(name)\n",
    "output += '|\\t{}'.format('Budget')\n",
    "print(output)\n",
    "print('-'*100)\n",
    "print('{}\\t|\\t{}\\t{}\\t{}\\t{}\\t{}\\t{}\\t{}\\t|\\t{}'.format(0,stocks[0], stocks[1], stocks[2], \n",
    "                                                          stocks[3], stocks[4], stocks[5],\n",
    "                                                          stocks[6],\n",
    "                                                          budget)) \n",
    "\n",
    "for i in range(13):\n",
    "    start_idx = int((i*21) + 1)\n",
    "    end_idx = int(start_idx + 252)\n",
    "   \n",
    "    \n",
    "\n",
    "    \n",
    "    \n",
    "    current_prices = prices[:,((i*21)+1)+252] #mishe roze baad az balayi chon ta nadare, yani balayi age 253 bashe in 554e\n",
    "    current_budget = budget\n",
    "    #print (type(res.W))\n",
    "    #weights = res.W\n",
    "    weights = np.array(weights)\n",
    "    print (weights)\n",
    "    current_budget = budget\n",
    "    transaction_budget = (current_budget + np.sum(current_prices*stocks))\n",
    "    for index, (weights, current_closed_price) in enumerate(zip(weights, current_prices)):\n",
    "        number_of_stock = int((weights * transaction_budget)/current_closed_price)\n",
    "        if number_of_stock > stocks[index]: # buy\n",
    "            total_cost = (number_of_stock - stocks[index]) * current_closed_price\n",
    "            budget -= total_cost\n",
    "            budget -= (total_cost * transactionCostFactor)\n",
    "        elif number_of_stock < stocks[index]: # sell\n",
    "            total_cost = (stocks[index] - number_of_stock) * current_closed_price\n",
    "            budget += total_cost\n",
    "            budget -= (total_cost * transactionCostFactor)\n",
    "        stocks[index] = number_of_stock\n",
    "        \n",
    "        \n",
    "    print('{}\\t|\\t{}\\t{}\\t{}\\t{}\\t{}\\t{}\\t{}\\t|\\t{}'.format(((i*21)),stocks[0], stocks[1], stocks[2], \n",
    "                                                          stocks[3], stocks[4], stocks[5],\n",
    "                                                          stocks[6],\n",
    "                                                          budget))\n",
    "    print('-'*100)\n",
    "    print(\"Budget after selling all stocks of this day: \", budget + (stocks[0]*prices[0,((i*21)+1)+252]) + \n",
    "          (stocks[1]*prices[1,((i*21)+1)+252]) + (stocks[2]*prices[2,((i*21)+1)+252]) + (stocks[3]*prices[3,((i*21)+1)+252]) +\n",
    "          (stocks[4]*prices[4,((i*21)+1)+252]) + (stocks[5]*prices[5,((i*21)+1)+252]) +\n",
    "          (stocks[6]*prices[6,((i*21)+1)+252]))\n",
    "    markowits_budgets_ret.append(((budget + (stocks[0]*prices[0,((i*21)+1)+252]) + (stocks[1]*prices[1,((i*21)+1)+252]) +\n",
    "          (stocks[2]*prices[2,((i*21)+1)+252]) + (stocks[3]*prices[3,((i*21)+1)+252]) +\n",
    "          (stocks[4]*prices[4,((i*21)+1)+252]) + (stocks[5]*prices[5,((i*21)+1)+252]) +\n",
    "          (stocks[6]*prices[6,((i*21)+1)+252])) /1000000)-1)\n",
    "    markowitz_weights.append(weights)\n",
    "    markowits_budgets.append(budget + (stocks[0]*prices[0,((i*21)+1)+252]) + (stocks[1]*prices[1,((i*21)+1)+252]) +\n",
    "          (stocks[2]*prices[2,((i*21)+1)+252]) + (stocks[3]*prices[3,((i*21)+1)+252]) +\n",
    "          (stocks[4]*prices[4,((i*21)+1)+252]) + (stocks[5]*prices[5,((i*21)+1)+252]) +\n",
    "          (stocks[6]*prices[6,((i*21)+1)+252]))\n",
    "    markowits_stock.append((stocks[0], stocks[1], stocks[2], \n",
    "                                                          stocks[3], stocks[4], stocks[5],\n",
    "                                                          stocks[6]))\n",
    "                              "
   ]
  },
  {
   "cell_type": "code",
   "execution_count": null,
   "metadata": {},
   "outputs": [],
   "source": []
  }
 ],
 "metadata": {
  "kernelspec": {
   "display_name": "Python 3",
   "language": "python",
   "name": "python3"
  },
  "language_info": {
   "codemirror_mode": {
    "name": "ipython",
    "version": 3
   },
   "file_extension": ".py",
   "mimetype": "text/x-python",
   "name": "python",
   "nbconvert_exporter": "python",
   "pygments_lexer": "ipython3",
   "version": "3.7.4"
  }
 },
 "nbformat": 4,
 "nbformat_minor": 2
}
